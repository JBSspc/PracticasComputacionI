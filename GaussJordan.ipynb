{
  "nbformat": 4,
  "nbformat_minor": 0,
  "metadata": {
    "colab": {
      "name": "GaussJordan.ipynb",
      "provenance": [],
      "authorship_tag": "ABX9TyO2MP1ZzSGEldEov9bUokha",
      "include_colab_link": true
    },
    "kernelspec": {
      "name": "python3",
      "display_name": "Python 3"
    },
    "language_info": {
      "name": "python"
    }
  },
  "cells": [
    {
      "cell_type": "markdown",
      "metadata": {
        "id": "view-in-github",
        "colab_type": "text"
      },
      "source": [
        "<a href=\"https://colab.research.google.com/github/JBSspc/PracticasComputacionI/blob/main/GaussJordan.ipynb\" target=\"_parent\"><img src=\"https://colab.research.google.com/assets/colab-badge.svg\" alt=\"Open In Colab\"/></a>"
      ]
    },
    {
      "cell_type": "code",
      "metadata": {
        "colab": {
          "base_uri": "https://localhost:8080/"
        },
        "id": "VdACxpqgGTct",
        "outputId": "2286147d-67e5-4778-c3f4-1ee379fe4b44"
      },
      "source": [
        "# Importamos la librería NumPy\n",
        "import numpy as np\n",
        "# Importamos sys para salir del programa cuando se divida entre 0\n",
        "import sys\n",
        "\n",
        "# Pedimos al usuario que ingrese el número de variables\n",
        "v = int(input('Número de ecuaciones: '))\n",
        "\n",
        "# Hacemos un arreglo (matriz) de v x v + 1\n",
        "# v + 1 --> # columnas = # variables + 1 (columna de solución)\n",
        "# La inicializamos en 0 con np.zeros\n",
        "z = np.zeros((v,v + 1))\n",
        "\n",
        "# Hacemos un arrglo para la solución\n",
        "# Tamaño: n x 1 (para que sea vector columna) #no salió :(\n",
        "# Lo inicializamos en 0\n",
        "x = np.zeros((v , 1))\n",
        "\n",
        "# Pedimos al usuario los coef. de la matriz aumentada\n",
        "print('\\nCoeficientes de la matriz aumentada: ')\n",
        "for i in range(v):\n",
        "  for j in range(v + 1):\n",
        "    z [i][j] = float(input('Valor elemento [' + str(i) +'][' + str(j) + ']: '))\n",
        "\n",
        "# Método de Gauss Jordan\n",
        "for i in range(v):\n",
        "  if z[i][j] == 0.0:\n",
        "    sys.exit('Alto! Divides entre 0!')\n",
        "  for j in range(v):\n",
        "    if i != j:\n",
        "      r = z[j][i] / z[i][i]\n",
        "      for k in range (v + 1):\n",
        "        z[j][k] = z[j][k] - r * z[i][k]\n",
        "\n",
        "# Para la solución\n",
        "for i in range (v):\n",
        "  x[i] = z[i][v] / z[i][i]\n",
        "\n",
        "# Mostrar la solución en consola\n",
        "print('\\nSolución: ')\n",
        "for i in range(v):\n",
        "  print('X%d = %0.2f' %(i, x[i]), end = '\\t')\n",
        "\n",
        "# %0.2f -> imprimir float con 2 espacios después del punto -> 0.00\n",
        "\n"
      ],
      "execution_count": 2,
      "outputs": [
        {
          "output_type": "stream",
          "name": "stdout",
          "text": [
            "Número de ecuaciones: 3\n",
            "\n",
            "Coeficientes de la matriz aumentada: \n",
            "Valor elemento [0][0]: 2\n",
            "Valor elemento [0][1]: 1\n",
            "Valor elemento [0][2]: -1\n",
            "Valor elemento [0][3]: 8\n",
            "Valor elemento [1][0]: -3\n",
            "Valor elemento [1][1]: -1\n",
            "Valor elemento [1][2]: 2\n",
            "Valor elemento [1][3]: -11\n",
            "Valor elemento [2][0]: -2\n",
            "Valor elemento [2][1]: 1\n",
            "Valor elemento [2][2]: 2\n",
            "Valor elemento [2][3]: -3\n",
            "\n",
            "Solución: \n",
            "X0 = 2.00\tX1 = 3.00\tX2 = -1.00\t"
          ]
        }
      ]
    }
  ]
}