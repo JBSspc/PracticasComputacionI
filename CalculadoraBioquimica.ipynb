{
  "nbformat": 4,
  "nbformat_minor": 0,
  "metadata": {
    "colab": {
      "name": "Calculadora.ipynb",
      "provenance": [],
      "authorship_tag": "ABX9TyMB4Yt0KxL29CFAjFiX77RP",
      "include_colab_link": true
    },
    "kernelspec": {
      "name": "python3",
      "display_name": "Python 3"
    },
    "language_info": {
      "name": "python"
    }
  },
  "cells": [
    {
      "cell_type": "markdown",
      "metadata": {
        "id": "view-in-github",
        "colab_type": "text"
      },
      "source": [
        "<a href=\"https://colab.research.google.com/github/JBSspc/PracticasComputacionI/blob/main/CalculadoraBioquimica.ipynb\" target=\"_parent\"><img src=\"https://colab.research.google.com/assets/colab-badge.svg\" alt=\"Open In Colab\"/></a>"
      ]
    },
    {
      "cell_type": "code",
      "metadata": {
        "colab": {
          "base_uri": "https://localhost:8080/"
        },
        "id": "qLciKGXpM57X",
        "outputId": "acb42fc4-5de0-423d-c05e-9b0410088004"
      },
      "source": [
        "import math\n",
        "import numpy as np\n",
        "import sys\n",
        "print(\"Bienvenido a la Calculadora de Bioquímica\")\n",
        "def switch():\n",
        "  print(\"Escoja una opción: \\n 1 : Calcular pH \\n 2 : Especie dominate \\n 3 : Calcular punto Isoeléctrico \\n 4 : Calcular carga neta a cierto pH \\n 5 : Balanceo de ecuaciones\")\n",
        "\n",
        "  option = int(input(\"Introduzca la opción: \"))\n",
        "\n",
        "  def pH():\n",
        "    num1 = float(input(\"Molaridad de la sustancia agregada: \"))\n",
        "    num2 = float(input(\"Volumen de la sustancia agregada (L): \"))\n",
        "    num3 = float(input(\"Volumen del agua (L): \"))\n",
        "    result = (math.log10((num1 * num2)/(num2 + num3)))*(-1)\n",
        "    print(\"pH de la solución: \", result)\n",
        "  def DominantSus():\n",
        "    num1 = float(input(\"pka: \"))\n",
        "    num2 = float(input(\"pH: \"))\n",
        "    result = (-(-num1)) - (-(-num2))\n",
        "    if result == 0:\n",
        "      print(\"Ambas especies están en equilibrio\")\n",
        "    else:\n",
        "      if result < 0:\n",
        "        print(\"Predomina la especie: DESPROTONADA\")\n",
        "      else:\n",
        "        print(\"Predomina la especie: PROTONADA\")\n",
        "  def pI():\n",
        "    num1 = float(input(\"pH1: \"))\n",
        "    num2 = float(input(\"pH2: \"))\n",
        "    result = (num1 + num2) / 2\n",
        "    print(\"Punto Isoeléctrico: \", result)\n",
        "  def carga():\n",
        "    result = num1 / num2\n",
        "    print(\"Resultado división: \", result)\n",
        "  def balanceo():\n",
        "    v = int(input(\"Número de ecuaciones: \"))\n",
        "    z = np.zeros((v, v + 1))\n",
        "    x = np.zeros((v, 1))\n",
        "    print('\\nCoeficientes de la matriz aumentada: ')\n",
        "    for i in range(v):\n",
        "      for j in range(v + 1):\n",
        "        z[i][j] = float (input('Valor elemento [' + str(i) + '][' + str(j) + ']: '))\n",
        "    for i in range(v):\n",
        "      if z[i][j] == 0.0:\n",
        "        sys.exit('Alto! Divides entre 0!')\n",
        "      for j in range(v):\n",
        "        if j in range(v):\n",
        "          if i != j:\n",
        "            r = z[j][i] / z[i][i]\n",
        "            for k in range(v + 1):\n",
        "              z[j][k] = z[j][k] - r * z[i][k]\n",
        "    for i in range(v):\n",
        "      x[i] = z[i][v] / z[i][i]\n",
        "\n",
        "    print('\\nSolucion: ')\n",
        "    for i in range(v):\n",
        "      print('X%d = %0.2f' %(i, x[i]), end = '\\t')  \n",
        "  dict = {\n",
        "      1 : pH,\n",
        "      2 : DominantSus,\n",
        "      3 : pI,\n",
        "      4 : carga,\n",
        "      5 : balanceo\n",
        "  }\n",
        "  dict.get(option)()\n",
        "\n",
        "switch()"
      ],
      "execution_count": 8,
      "outputs": [
        {
          "output_type": "stream",
          "name": "stdout",
          "text": [
            "Bienvenido a la Calculadora de Bioquímica\n",
            "Escoja una opción: \n",
            " 1 : Calcular pH \n",
            " 2 : Especie dominate \n",
            " 3 : Calcular punto Isoeléctrico \n",
            " 4 : Calcular carga neta a cierto pH \n",
            " 5 : Balanceo de ecuaciones\n",
            "Introduzca la opción: 5\n",
            "Número de ecuaciones: 3\n",
            "\n",
            "Coeficientes de la matriz aumentada: \n",
            "Valor elemento [0][0]: 1\n",
            "Valor elemento [0][1]: 2\n",
            "Valor elemento [0][2]: 3\n",
            "Valor elemento [0][3]: 3\n",
            "Valor elemento [1][0]: 2\n",
            "Valor elemento [1][1]: 0\n",
            "Valor elemento [1][2]: 1\n",
            "Valor elemento [1][3]: 2\n",
            "Valor elemento [2][0]: 5\n",
            "Valor elemento [2][1]: 6\n",
            "Valor elemento [2][2]: 7\n",
            "Valor elemento [2][3]: 4\n",
            "\n",
            "Solucion: \n",
            "X0 = -0.17\tX1 = -1.92\tX2 = 2.33\t"
          ]
        }
      ]
    }
  ]
}